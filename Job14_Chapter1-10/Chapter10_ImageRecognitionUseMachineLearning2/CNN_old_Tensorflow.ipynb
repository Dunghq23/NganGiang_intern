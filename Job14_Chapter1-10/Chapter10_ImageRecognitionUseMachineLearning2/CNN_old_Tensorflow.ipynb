{
  "cells": [
    {
      "cell_type": "code",
      "execution_count": 1,
      "metadata": {
        "colab": {
          "base_uri": "https://localhost:8080/"
        },
        "id": "OowXmthUbkcB",
        "outputId": "67938d7f-117b-4117-a86a-a52eb823ae0a"
      },
      "outputs": [
        {
          "name": "stdout",
          "output_type": "stream",
          "text": [
            "Downloading data from https://storage.googleapis.com/tensorflow/tf-keras-datasets/mnist.npz\n",
            "11490434/11490434 [==============================] - 2s 0us/step\n",
            "Learning started. It takes sometime.\n",
            "Epoch: 0001 cost= 0.417835409\n",
            "Epoch: 0002 cost= 0.115794778\n",
            "Epoch: 0003 cost= 0.081649788\n",
            "Epoch: 0004 cost= 0.064143401\n",
            "Epoch: 0005 cost= 0.053300106\n",
            "Epoch: 0006 cost= 0.045606980\n",
            "Epoch: 0007 cost= 0.039436515\n",
            "Epoch: 0008 cost= 0.034147595\n",
            "Epoch: 0009 cost= 0.029606907\n",
            "Epoch: 0010 cost= 0.025905427\n",
            "Epoch: 0011 cost= 0.022762971\n",
            "Epoch: 0012 cost= 0.020394745\n",
            "Epoch: 0013 cost= 0.019010249\n",
            "Epoch: 0014 cost= 0.016541678\n",
            "Epoch: 0015 cost= 0.014534533\n",
            "Learning Finished!\n",
            "Accuracy: 0.985\n",
            "Label:  [4]\n",
            "Prediction: [4]\n"
          ]
        }
      ],
      "source": [
        "\n",
        "6"
      ]
    }
  ],
  "metadata": {
    "accelerator": "GPU",
    "colab": {
      "gpuType": "T4",
      "provenance": []
    },
    "kernelspec": {
      "display_name": "Python 3",
      "name": "python3"
    },
    "language_info": {
      "name": "python"
    }
  },
  "nbformat": 4,
  "nbformat_minor": 0
}
