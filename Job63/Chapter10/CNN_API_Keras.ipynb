{
  "cells": [
    {
      "cell_type": "code",
      "execution_count": 1,
      "metadata": {
        "id": "PFumwhiDG5Yz"
      },
      "outputs": [],
      "source": [
        "# Importing the required Keras modules containing model and layers\n",
        "import tensorflow as tf\n",
        "from tensorflow.keras import layers, models\n",
        "import random"
      ]
    },
    {
      "cell_type": "code",
      "execution_count": 2,
      "metadata": {
        "colab": {
          "base_uri": "https://localhost:8080/"
        },
        "id": "0BVSq4xTG9Iu",
        "outputId": "5f729aa2-2851-430e-e3c9-3a136fdb4720"
      },
      "outputs": [
        {
          "output_type": "stream",
          "name": "stderr",
          "text": [
            "WARNING:tensorflow:From <ipython-input-2-6f2493bc3c37>:2: is_gpu_available (from tensorflow.python.framework.test_util) is deprecated and will be removed in a future version.\n",
            "Instructions for updating:\n",
            "Use `tf.config.list_physical_devices('GPU')` instead.\n"
          ]
        },
        {
          "output_type": "stream",
          "name": "stdout",
          "text": [
            "2.14.0\n",
            "GPU Available:  True\n"
          ]
        }
      ],
      "source": [
        "print(tf.__version__)\n",
        "print(\"GPU Available: \", tf.test.is_gpu_available())\n",
        "(x_train, y_train), (x_test, y_test) = tf.keras.datasets.mnist.load_data()"
      ]
    },
    {
      "cell_type": "code",
      "execution_count": 3,
      "metadata": {
        "id": "1RoNS8RUG9GJ"
      },
      "outputs": [],
      "source": [
        "# Reshaping the array to 4-dims so that it can work with the Keras API\n",
        "x_train = x_train.reshape(x_train.shape[0], 28, 28, 1)"
      ]
    },
    {
      "cell_type": "code",
      "execution_count": 4,
      "metadata": {
        "id": "IPMHNDZsG9Dx"
      },
      "outputs": [],
      "source": [
        "x_test = x_test.reshape(x_test.shape[0], 28, 28, 1)\n",
        "input_shape = (28, 28, 1)"
      ]
    },
    {
      "cell_type": "code",
      "source": [
        "# Making sure that the values are float so that we can get decimal points after division\n",
        "x_train = x_train.astype('float32')\n",
        "x_test = x_test.astype('float32')"
      ],
      "metadata": {
        "id": "OQYocFwyJirs"
      },
      "execution_count": 5,
      "outputs": []
    },
    {
      "cell_type": "code",
      "source": [
        "# Normalizing the RGB codes by dividing it to the max RGB value.\n",
        "x_train /= 255\n",
        "x_test /= 255\n",
        "print('x_train shape:', x_train.shape)\n",
        "print('Number of images in x_train', x_train.shape[0])\n",
        "print('Number of images in x_test', x_test.shape[0])"
      ],
      "metadata": {
        "colab": {
          "base_uri": "https://localhost:8080/"
        },
        "id": "xUYhOMFVJin6",
        "outputId": "fd6cbbb8-10ab-480f-f126-1a9bc88cedb6"
      },
      "execution_count": 6,
      "outputs": [
        {
          "output_type": "stream",
          "name": "stdout",
          "text": [
            "x_train shape: (60000, 28, 28, 1)\n",
            "Number of images in x_train 60000\n",
            "Number of images in x_test 10000\n"
          ]
        }
      ]
    },
    {
      "cell_type": "code",
      "source": [
        "# Create a sequential model\n",
        "model = models.Sequential()"
      ],
      "metadata": {
        "id": "4Qo1BVZrbgfZ"
      },
      "execution_count": 7,
      "outputs": []
    },
    {
      "cell_type": "code",
      "source": [
        "# -------------- Cấu trúc tầng mạng --------------\n",
        "# Lớp Convolutional Đầu Tiên\n",
        "model.add(layers.Conv2D(28, kernel_size=(3, 3), input_shape=input_shape))\n",
        "model.add(layers.MaxPooling2D(pool_size=(2, 2)))\n",
        "\n",
        "# Lớp Fully Connected (1)\n",
        "model.add(layers.Flatten())\n",
        "model.add(layers.Dense(128, activation=tf.nn.relu))\n",
        "model.add(layers.Dropout(0.2))\n",
        "\n",
        "# Lớp Fully Connected (2)\n",
        "model.add(layers.Dense(10, activation=tf.nn.softmax))\n",
        "model.compile(optimizer='adam',\n",
        "              loss='sparse_categorical_crossentropy',\n",
        "              metrics=['accuracy'])"
      ],
      "metadata": {
        "id": "dNKrYNEoJiim"
      },
      "execution_count": 8,
      "outputs": []
    },
    {
      "cell_type": "code",
      "source": [
        "# Custom callback to format output\n",
        "class CustomCallback(tf.keras.callbacks.Callback):\n",
        "    def on_epoch_begin(self, epoch, logs=None):\n",
        "        print(f'Epoch {epoch + 1}', end=' ')\n",
        "\n",
        "    def on_epoch_end(self, epoch, logs=None):\n",
        "        print(f'- loss: {logs[\"loss\"]:.4f} - accuracy: {logs[\"accuracy\"]:.4f}')"
      ],
      "metadata": {
        "id": "j_8LosoRhMyL"
      },
      "execution_count": 9,
      "outputs": []
    },
    {
      "cell_type": "code",
      "source": [
        "# Create an instance of the custom callback\n",
        "custom_callback = CustomCallback()\n",
        "\n",
        "# Fit the model with the custom callback\n",
        "model.fit(x=x_train, y=y_train, epochs=15, callbacks=[custom_callback], verbose=0)"
      ],
      "metadata": {
        "colab": {
          "base_uri": "https://localhost:8080/"
        },
        "id": "wlKBzXQXhSUa",
        "outputId": "faeaa6b9-e1a6-461d-bdb3-975013a2d9b6"
      },
      "execution_count": 10,
      "outputs": [
        {
          "output_type": "stream",
          "name": "stdout",
          "text": [
            "Epoch 1 - loss: 0.2152 - accuracy: 0.9363\n",
            "Epoch 2 - loss: 0.0836 - accuracy: 0.9744\n",
            "Epoch 3 - loss: 0.0585 - accuracy: 0.9815\n",
            "Epoch 4 - loss: 0.0422 - accuracy: 0.9862\n",
            "Epoch 5 - loss: 0.0346 - accuracy: 0.9890\n",
            "Epoch 6 - loss: 0.0272 - accuracy: 0.9908\n",
            "Epoch 7 - loss: 0.0250 - accuracy: 0.9912\n",
            "Epoch 8 - loss: 0.0213 - accuracy: 0.9927\n",
            "Epoch 9 - loss: 0.0208 - accuracy: 0.9927\n",
            "Epoch 10 - loss: 0.0184 - accuracy: 0.9936\n",
            "Epoch 11 - loss: 0.0163 - accuracy: 0.9941\n",
            "Epoch 12 - loss: 0.0155 - accuracy: 0.9949\n",
            "Epoch 13 - loss: 0.0127 - accuracy: 0.9956\n",
            "Epoch 14 - loss: 0.0140 - accuracy: 0.9955\n",
            "Epoch 15 - loss: 0.0144 - accuracy: 0.9951\n"
          ]
        },
        {
          "output_type": "execute_result",
          "data": {
            "text/plain": [
              "<keras.src.callbacks.History at 0x7b6fb9d066b0>"
            ]
          },
          "metadata": {},
          "execution_count": 10
        }
      ]
    },
    {
      "cell_type": "code",
      "source": [
        "# serialize model to JSON\n",
        "model_json = model.to_json()\n",
        "with open(\"model.json\", \"w\") as json_file:\n",
        "    json_file.write(model_json)"
      ],
      "metadata": {
        "id": "jibF2_n7JigC"
      },
      "execution_count": 11,
      "outputs": []
    },
    {
      "cell_type": "code",
      "source": [
        "# serialize weights to HDF5\n",
        "model.save_weights(\"model.h5\")\n",
        "print(\"Saved model to disk\")"
      ],
      "metadata": {
        "colab": {
          "base_uri": "https://localhost:8080/"
        },
        "id": "TTCR6Y8CJidG",
        "outputId": "8c5d91f7-513c-4097-e309-a32f62889602"
      },
      "execution_count": 12,
      "outputs": [
        {
          "output_type": "stream",
          "name": "stdout",
          "text": [
            "Saved model to disk\n"
          ]
        }
      ]
    },
    {
      "cell_type": "code",
      "source": [
        "# Tải mô hình đã lưu\n",
        "json_file = open('model.json', 'r')\n",
        "loaded_model_json = json_file.read()\n",
        "json_file.close()\n",
        "loaded_model = tf.keras.models.model_from_json(loaded_model_json)"
      ],
      "metadata": {
        "id": "RDRmbNcbdn8C"
      },
      "execution_count": 13,
      "outputs": []
    },
    {
      "cell_type": "code",
      "source": [
        "# Tải trọng số vào mô hình đã tải\n",
        "loaded_model.load_weights(\"model.h5\")"
      ],
      "metadata": {
        "id": "mu9dlrDAdrpC"
      },
      "execution_count": 14,
      "outputs": []
    },
    {
      "cell_type": "code",
      "source": [
        "# Biên soạn lại mô hình đã tải\n",
        "loaded_model.compile(optimizer='adam',\n",
        "                     loss='sparse_categorical_crossentropy',\n",
        "                     metrics=['accuracy'])"
      ],
      "metadata": {
        "id": "WUf9-yMxdrmJ"
      },
      "execution_count": 15,
      "outputs": []
    },
    {
      "cell_type": "code",
      "source": [
        "# Chuẩn bị dữ liệu kiểm thử\n",
        "(x_train, y_train), (x_test, y_test) = tf.keras.datasets.mnist.load_data()\n",
        "x_test = x_test.reshape(x_test.shape[0], 28, 28, 1)\n",
        "x_test = x_test.astype('float32') / 255"
      ],
      "metadata": {
        "id": "_IBSSPnlfIHC"
      },
      "execution_count": 16,
      "outputs": []
    },
    {
      "cell_type": "code",
      "source": [
        "# Đánh giá mô hình trên dữ liệu kiểm thử\n",
        "accuracy = loaded_model.evaluate(x_test, y_test, verbose=0)[1]\n",
        "print('Accuracy: {:.2%}'.format(accuracy))\n",
        "\n",
        "# Lấy một ví dụ ngẫu nhiên và in ra nhãn thực tế và nhãn dự đoán\n",
        "random_index = random.randint(0, len(x_test) - 1)\n",
        "label = y_test[random_index]\n",
        "prediction = loaded_model.predict(x_test[random_index].reshape(1, 28, 28, 1))\n",
        "predicted_label = tf.argmax(prediction, 1).numpy()[0]\n",
        "\n",
        "print(\"Label: \", label)\n",
        "print(\"Prediction: \", predicted_label)"
      ],
      "metadata": {
        "colab": {
          "base_uri": "https://localhost:8080/"
        },
        "id": "1fSrS0heKCth",
        "outputId": "70e5887e-44f9-4e9a-d02f-4c68985798f2"
      },
      "execution_count": 17,
      "outputs": [
        {
          "output_type": "stream",
          "name": "stdout",
          "text": [
            "Accuracy: 98.56%\n",
            "1/1 [==============================] - 0s 108ms/step\n",
            "Label:  9\n",
            "Prediction:  9\n"
          ]
        }
      ]
    }
  ],
  "metadata": {
    "accelerator": "GPU",
    "colab": {
      "provenance": []
    },
    "kernelspec": {
      "display_name": "Python 3",
      "name": "python3"
    },
    "language_info": {
      "name": "python"
    }
  },
  "nbformat": 4,
  "nbformat_minor": 0
}